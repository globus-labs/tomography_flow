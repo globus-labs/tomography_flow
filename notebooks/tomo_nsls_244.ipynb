{
 "cells": [
  {
   "cell_type": "code",
   "execution_count": 1,
   "metadata": {},
   "outputs": [],
   "source": [
    "data = {\n",
    "    'proj_file': '/home/ravescovi/Downloads/NSLS2/scan_00244/proj_00000.hdf',\n",
    "    'angles_file': '/home/ravescovi/Downloads/NSLS2/scan_00244/scan_00244.nxs',\n",
    "    'dark_file': '/home/ravescovi/Downloads/NSLS2/scan_00245/dark_00000.hdf',\n",
    "    'flat_file': '/home/ravescovi/Downloads/NSLS2/scan_00245/flat_00000.hdf',\n",
    "    'recon_init': 1000,\n",
    "    'recon_end': 1512,\n",
    "    'rot_center': None,\n",
    "}"
   ]
  },
  {
   "cell_type": "code",
   "execution_count": 2,
   "metadata": {},
   "outputs": [
    {
     "name": "stdout",
     "output_type": "stream",
     "text": [
      "proj (1801, 512, 3200) uint16\n",
      "flats (50, 512, 3200) uint16\n",
      "darks (20, 512, 3200) uint16\n",
      "theta (1801,) float32\n",
      "proj_norm (1801, 512, 3200) float32\n",
      "rot_center 1609.25\n",
      "proj_norm_ml (1801, 512, 3200) float32\n",
      "recon (512, 3200, 3200)\n"
     ]
    }
   ],
   "source": [
    "import sys\n",
    "sys.path.append('/home/ravescovi/workspace/tomography_flow/tomo_flow')\n",
    "import matplotlib.pyplot as plt\n",
    "from recon import load_data, recon_data\n",
    "\n",
    "proj_file = data['proj_file']\n",
    "proj_file = data['proj_file']\n",
    "flat_file = data['flat_file']\n",
    "dark_file = data['dark_file']\n",
    "angles_file = data['angles_file']\n",
    "recon_init = data['recon_init']\n",
    "recon_end = data['recon_end']\n",
    "rot_center = data['rot_center']\n",
    "\n",
    "proj, flats, darks, theta = load_data(proj_file, flat_file, dark_file, angles_file, recon_init, recon_end)\n",
    "recon, proj, rot_center = recon_data(proj, flats, darks, theta)"
   ]
  },
  {
   "cell_type": "code",
   "execution_count": 4,
   "metadata": {},
   "outputs": [
    {
     "ename": "ModuleNotFoundError",
     "evalue": "No module named 'dxchange.writer'",
     "output_type": "error",
     "traceback": [
      "\u001b[0;31m---------------------------------------------------------------------------\u001b[0m",
      "\u001b[0;31mModuleNotFoundError\u001b[0m                       Traceback (most recent call last)",
      "Cell \u001b[0;32mIn[4], line 4\u001b[0m\n\u001b[1;32m      1\u001b[0m sys\u001b[38;5;241m.\u001b[39mpath\u001b[38;5;241m.\u001b[39mappend(\u001b[38;5;124m'\u001b[39m\u001b[38;5;124m/home/ravescovi/workspace/tomography_flow/tomo_flow\u001b[39m\u001b[38;5;124m'\u001b[39m)\n\u001b[1;32m      2\u001b[0m \u001b[38;5;28;01mfrom\u001b[39;00m \u001b[38;5;21;01mrecon\u001b[39;00m \u001b[38;5;28;01mimport\u001b[39;00m save_data, save_images, show_images\n\u001b[0;32m----> 4\u001b[0m save_data(recon, rot_center, \u001b[38;5;124m'\u001b[39m\u001b[38;5;124m/home/ravescovi/Downloads/NSLS2/scan_00244/recon_\u001b[39m\u001b[38;5;124m'\u001b[39m)\n\u001b[1;32m      5\u001b[0m save_images(recon, \u001b[38;5;124m'\u001b[39m\u001b[38;5;124m/home/ravescovi/Downloads/NSLS2/scan_00244/recon_\u001b[39m\u001b[38;5;124m'\u001b[39m)\n\u001b[1;32m      6\u001b[0m show_images(recon)\n",
      "File \u001b[0;32m~/workspace/tomography_flow/tomo_flow/recon.py:58\u001b[0m, in \u001b[0;36msave_data\u001b[0;34m(recon, rot_center, output_dir)\u001b[0m\n\u001b[1;32m     53\u001b[0m \u001b[38;5;28;01mdef\u001b[39;00m \u001b[38;5;21msave_data\u001b[39m(recon, rot_center, output_dir\u001b[38;5;241m=\u001b[39m\u001b[38;5;124m'\u001b[39m\u001b[38;5;124mrecon\u001b[39m\u001b[38;5;124m'\u001b[39m):\n\u001b[1;32m     54\u001b[0m \u001b[38;5;250m    \u001b[39m\u001b[38;5;124;03m\"\"\"\u001b[39;00m\n\u001b[1;32m     55\u001b[0m \u001b[38;5;124;03m    Saves the reconstructed volume as a stack of TIFF files and writes the\u001b[39;00m\n\u001b[1;32m     56\u001b[0m \u001b[38;5;124;03m    rotation center to a text file in the specified output directory.\u001b[39;00m\n\u001b[1;32m     57\u001b[0m \u001b[38;5;124;03m    \"\"\"\u001b[39;00m\n\u001b[0;32m---> 58\u001b[0m     \u001b[38;5;28;01mfrom\u001b[39;00m \u001b[38;5;21;01mdxchange\u001b[39;00m\u001b[38;5;21;01m.\u001b[39;00m\u001b[38;5;21;01mwriter\u001b[39;00m \u001b[38;5;28;01mimport\u001b[39;00m write_tiff_stack\n\u001b[1;32m     60\u001b[0m     os\u001b[38;5;241m.\u001b[39mmakedirs(output_dir, exist_ok\u001b[38;5;241m=\u001b[39m\u001b[38;5;28;01mTrue\u001b[39;00m)\n\u001b[1;32m     62\u001b[0m     \u001b[38;5;66;03m# Save the reconstruction; files will be written with a prefix in the output directory.\u001b[39;00m\n",
      "\u001b[0;31mModuleNotFoundError\u001b[0m: No module named 'dxchange.writer'"
     ]
    }
   ],
   "source": [
    "sys.path.append('/home/ravescovi/workspace/tomography_flow/tomo_flow')\n",
    "from recon import save_data, save_images, show_images\n",
    "\n",
    "save_data(recon, rot_center, '/home/ravescovi/Downloads/NSLS2/scan_00244/recon_')\n",
    "save_images(recon, '/home/ravescovi/Downloads/NSLS2/scan_00244/recon_')\n",
    "show_images(recon)\n",
    "plt.show()  "
   ]
  },
  {
   "cell_type": "code",
   "execution_count": null,
   "metadata": {},
   "outputs": [],
   "source": []
  }
 ],
 "metadata": {
  "kernelspec": {
   "display_name": "tomo",
   "language": "python",
   "name": "python3"
  },
  "language_info": {
   "codemirror_mode": {
    "name": "ipython",
    "version": 3
   },
   "file_extension": ".py",
   "mimetype": "text/x-python",
   "name": "python",
   "nbconvert_exporter": "python",
   "pygments_lexer": "ipython3",
   "version": "3.11.10"
  }
 },
 "nbformat": 4,
 "nbformat_minor": 2
}
