{
 "cells": [
  {
   "cell_type": "code",
   "execution_count": 2,
   "metadata": {},
   "outputs": [
    {
     "name": "stdout",
     "output_type": "stream",
     "text": [
      "['flat_00000.hdf', 'dark_00000.hdf', 'scan_00245.nxs']\n",
      "Data files paths: /home/ravescovi/Downloads/NSLS2/scan_00245/scan_00245.nxs\n",
      "<KeysViewHDF5 ['dark', 'flat']>\n",
      "Flat and dark files:\n",
      "Flat file path: /home/ravescovi/Downloads/NSLS2/scan_00245/flat_00000.hdf\n",
      "<HDF5 dataset \"data\": shape (50, 3200, 3200), type \"<u2\">\n",
      "Dark file path: /home/ravescovi/Downloads/NSLS2/scan_00245/dark_00000.hdf\n",
      "<HDF5 dataset \"data\": shape (20, 3200, 3200), type \"<u2\">\n"
     ]
    }
   ],
   "source": [
    "import os\n",
    "import h5py\n",
    "import matplotlib.pyplot as plt\n",
    "import tomopy\n",
    "\n",
    "# Path to the download folder\n",
    "download_folder = '/home/ravescovi/Downloads/NSLS2/scan_00245'\n",
    "\n",
    "# List all files in the download folder\n",
    "files = os.listdir(download_folder)\n",
    "print(files)\n",
    "\n",
    "main_file = os.path.join(download_folder, 'scan_00245.nxs')\n",
    "print(\"Data files paths:\", main_file)\n",
    "main_info = h5py.File(main_file, 'r')['entry']['data'].keys()\n",
    "print(main_info)\n",
    "\n",
    "##\n",
    "print(\"Flat and dark files:\")\n",
    "##\n",
    "flat_file = os.path.join(download_folder, 'flat_00000.hdf')\n",
    "print(\"Flat file path:\", flat_file)\n",
    "flat_images = h5py.File(flat_file, 'r')['entry']['data']['data']\n",
    "print(flat_images)\n",
    "##\n",
    "dark_file = os.path.join(download_folder, 'dark_00000.hdf')\n",
    "print(\"Dark file path:\", dark_file)\n",
    "dark_images = h5py.File(dark_file, 'r')['entry']['data']['data']\n",
    "print(dark_images)\n"
   ]
  }
 ],
 "metadata": {
  "kernelspec": {
   "display_name": "tomo",
   "language": "python",
   "name": "python3"
  },
  "language_info": {
   "codemirror_mode": {
    "name": "ipython",
    "version": 3
   },
   "file_extension": ".py",
   "mimetype": "text/x-python",
   "name": "python",
   "nbconvert_exporter": "python",
   "pygments_lexer": "ipython3",
   "version": "3.11.10"
  }
 },
 "nbformat": 4,
 "nbformat_minor": 2
}
