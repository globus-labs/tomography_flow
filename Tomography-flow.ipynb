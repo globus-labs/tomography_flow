{
 "cells": [
  {
   "cell_type": "markdown",
   "id": "0d3813a6",
   "metadata": {},
   "source": [
    "<img src=\"img/automation_using_flows_header.png\">\n",
    "<img src=\"img/lightsources.png\">\n",
    "\n",
    "# Tomography Reconstructions\n",
    "\n",
    "This notebook shows how [Tomopy](https://tomopy.readthedocs.io/en/latest/) reconstructions can be automated using [Globus Flows](https://www.globus.org/globus-flows-service). The notebook aims to demonstrate how an individual flow can be used to integrate different light sources and compute facilities.\n",
    "\n"
   ]
  },
  {
   "cell_type": "markdown",
   "id": "0ca5d8f2",
   "metadata": {},
   "source": [
    "### Using the Flows GUI"
   ]
  },
  {
   "cell_type": "markdown",
   "id": "8d216f3f",
   "metadata": {},
   "source": [
    "The Globus Flows web app can generate a `start` page to easily invoke flows. To create this page you need to attach an input schema to the flow. This is shown at the end of the notebook.\n",
    "\n",
    "<img src=\"img/input1.png\">"
   ]
  },
  {
   "cell_type": "markdown",
   "id": "07d5e761",
   "metadata": {},
   "source": [
    "### Monitoring the flow\n",
    "Once the flow has been started you can monitor the run. The events tab shows each step of the flow and provides details regarding the input and output of each action.\n",
    "\n",
    "Here you can see the input to the Tomopy step of the flow, showing the input values that are passed into the function to execute.\n",
    "\n",
    "<img src=\"img/running.png\">"
   ]
  },
  {
   "cell_type": "markdown",
   "id": "fcb8ae33",
   "metadata": {},
   "source": [
    "# Creating a Tomopy Flow\n",
    "\n",
    "Here we explain how the flow is defined. Running these steps will register a flow of your own that you can then run.\n",
    "\n",
    "To run these steps you will need to install:\n",
    "\n",
    "`pip install -U globus_sdk`"
   ]
  },
  {
   "cell_type": "markdown",
   "id": "3989f718",
   "metadata": {},
   "source": [
    "Here we create a Globus FlowsClient to securely interact with the Flows service. This will prompt you to login and paste a token into the notebook."
   ]
  },
  {
   "cell_type": "code",
   "execution_count": null,
   "id": "a29de715-5a27-4671-aaa2-0809f3fbf7ca",
   "metadata": {
    "metadata": {}
   },
   "outputs": [],
   "source": [
    "import os\n",
    "import json\n",
    "import time\n",
    "import globus_sdk\n",
    "\n",
    "from globus_sdk.experimental.globus_app import UserApp\n",
    "from globus_sdk.scopes import GCSCollectionScopeBuilder\n",
    "\n",
    "# Tutorial client ID\n",
    "# We recommend replacing this with your own client for any production use-cases\n",
    "# Create your own at developers.globus.org\n",
    "CLIENT_ID = \"7ca21f4a-11de-4d97-8f84-cb66f7459981\""
   ]
  },
  {
   "cell_type": "code",
   "execution_count": null,
   "id": "f72abbf6",
   "metadata": {},
   "outputs": [],
   "source": [
    "my_app = UserApp(\"tomography-user-app\", client_id=CLIENT_ID)\n",
    "\n",
    "flows_client = globus_sdk.FlowsClient(app=my_app)"
   ]
  },
  {
   "cell_type": "markdown",
   "id": "c35cecec",
   "metadata": {},
   "source": [
    "Specify the flow definition. This JSON definition is derived from the Amazon Step Functions language. States of the flow are chained together by specifying the `Next` field to construct a pipeline of operations. This flow consists of two steps:\n",
    "\n",
    "1. TransferInputs\n",
    "2. Tomocupy\n",
    "3. TransferResults\n",
    "\n",
    "The first step, TransferFiles, uses the Globus Transfer action provider. The step is given a 300s walltime and the entire input is required to be passed into the step. Static values can be used here to simplify user input.\n",
    "\n",
    "The second step, Tomocupy, uses the Globus Compute action provider. Input is dymanically passed in as `kwargs`, which are then passed to the function to be executed. The step is given a 600s walltime and is the conclusion of the flow."
   ]
  },
  {
   "cell_type": "code",
   "execution_count": null,
   "id": "7ee683c8",
   "metadata": {},
   "outputs": [],
   "source": [
    "flow_definition = {\n",
    "    \"Comment\": \"Transfer and run Tomopy\",\n",
    "    \"StartAt\": \"TransferInput\",\n",
    "    \"States\": {\n",
    "        \"TransferInput\": {\n",
    "            \"Comment\": \"Transfer input file\",\n",
    "            \"Type\": \"Action\",\n",
    "            \"ActionUrl\": \"https://actions.automate.globus.org/transfer/transfer\",\n",
    "            \"Parameters\": {\n",
    "                \"source_endpoint_id.$\": \"$.input.transfer_in.source.id\",\n",
    "                \"destination_endpoint_id.$\": \"$.input.transfer_in.destination.id\",\n",
    "                \"transfer_items\": [\n",
    "                    {\n",
    "                        \"source_path.$\": \"$.input.transfer_in.source.path\",\n",
    "                        \"destination_path.$\": \"$.input.transfer_in.destination.path\",\n",
    "                        \"recursive\": False\n",
    "                    }\n",
    "                ]\n",
    "            },\n",
    "            \"ResultPath\": \"$.TransferInput\",\n",
    "            \"WaitTime\": 300,\n",
    "            \"Next\": \"Tomopy\"\n",
    "        },\n",
    "        \"Tomopy\": {\n",
    "            \"Comment\": \"Perform Tomopy analysis\",\n",
    "            \"Type\": \"Action\",\n",
    "            \"ActionUrl\": \"https://compute.actions.globus.org/fxap\",\n",
    "            \"Parameters\": {\n",
    "                \"endpoint.$\": \"$.input.compute_endpoint_id\",\n",
    "                \"function.$\": \"$.input.compute_function_id\",\n",
    "                \"kwargs.$\": \"$.input.compute_function_kwargs\"\n",
    "            },\n",
    "            \"ResultPath\": \"$.TomopyOutput\",\n",
    "            \"WaitTime\": 600,\n",
    "            \"Next\": \"TransferResults\"\n",
    "        },\n",
    "        \"TransferResults\": {\n",
    "            \"Comment\": \"Transfer results\",\n",
    "            \"Type\": \"Action\",\n",
    "            \"ActionUrl\": \"https://actions.automate.globus.org/transfer/transfer\",\n",
    "            \"Parameters\": {\n",
    "                \"source_endpoint_id.$\": \"$.input.transfer_out.source.id\",\n",
    "                \"destination_endpoint_id.$\": \"$.input.transfer_out.destination.id\",\n",
    "                \"transfer_items\": [\n",
    "                    {\n",
    "                        \"source_path.$\": \"$.TomopyOutput.details.result[0][1]\",\n",
    "                        \"destination_path.$\": \"$.input.transfer_out.destination.path\",\n",
    "                        \"recursive\": False\n",
    "                    }\n",
    "                ]\n",
    "            },\n",
    "            \"ResultPath\": \"$.TransferFiles\",\n",
    "            \"WaitTime\": 300,\n",
    "            \"End\": True\n",
    "        },\n",
    "    }\n",
    "}"
   ]
  },
  {
   "cell_type": "markdown",
   "id": "deb85183",
   "metadata": {},
   "source": [
    "Register the flow. We leave the input schema blank and will later update it to support the web interface."
   ]
  },
  {
   "cell_type": "code",
   "execution_count": null,
   "id": "bf90c1cf",
   "metadata": {},
   "outputs": [],
   "source": [
    "flow = flows_client.create_flow(definition=flow_definition, title=\"Tomopy IRI Flow\", input_schema={})\n",
    "flow_id = flow['id']\n",
    "flow_scope = flow['globus_auth_scope']\n",
    "print(f'Newly created flow with id:\\n{flow_id}')"
   ]
  },
  {
   "cell_type": "markdown",
   "id": "72ed205b",
   "metadata": {},
   "source": [
    "## Creating a Tomopy Function\n",
    "\n",
    "To run Tomopy in the flow we need to define a Tomopy function and register it with Globus Compute.\n",
    "\n",
    "**Note, this uses my personal compute endpoint, not a service account endpoint. Access to this endpoint is restricted.**"
   ]
  },
  {
   "cell_type": "code",
   "execution_count": null,
   "id": "d28edc81",
   "metadata": {},
   "outputs": [],
   "source": [
    "import globus_compute_sdk\n",
    "\n",
    "polaris_ep = '0f44e1f7-baa5-4dfd-a2f6-73051004cfaa'\n",
    "gce = globus_compute_sdk.Executor(endpoint_id=polaris_ep)"
   ]
  },
  {
   "cell_type": "markdown",
   "id": "1c3de22e",
   "metadata": {},
   "source": [
    "Define a function to call tomocupy.\n",
    "\n",
    "This is a simple wrapper function that uses subprocess to invoke a templated bash command to run the tomopy cli."
   ]
  },
  {
   "cell_type": "code",
   "execution_count": null,
   "id": "aeabdb3f",
   "metadata": {},
   "outputs": [],
   "source": [
    "def tomopy_wrapper(filename, command=\"recon\", reconstruction_type=\"slice\", \n",
    "                     save_folder=\"_rec\", collection_path=\"/home/share/godata/\"):\n",
    "    import subprocess\n",
    "    import glob\n",
    "    import os\n",
    "    \n",
    "    cmd = f\"tomopy {command} --file-name {filename} --reconstruction-type {reconstruction_type} --save-folder={save_folder}\"\n",
    "    res = subprocess.run(cmd.split(\" \"), stdout=subprocess.PIPE, stderr=subprocess.PIPE)\n",
    "\n",
    "    # Get the most recent reconstruction file\n",
    "    list_of_files = glob.glob(f'{save_folder}/slice_rec/*')\n",
    "    recon_file = max(list_of_files, key=os.path.getctime)\n",
    "\n",
    "    result_path = os.path.join(collection_path, \"file1.txt\")\n",
    "    \n",
    "    return recon_file, result_path, res.returncode, res.stdout.decode(\"utf-8\"), res.stderr.decode(\"utf-8\")"
   ]
  },
  {
   "cell_type": "markdown",
   "id": "7c54ef7b",
   "metadata": {},
   "source": [
    "Register the function with Compute. "
   ]
  },
  {
   "cell_type": "code",
   "execution_count": null,
   "id": "b9c249df",
   "metadata": {},
   "outputs": [],
   "source": [
    "tomo_func = gce.client.register_function(tomopy_wrapper)"
   ]
  },
  {
   "cell_type": "code",
   "execution_count": null,
   "id": "d926ebdc",
   "metadata": {},
   "outputs": [],
   "source": [
    "tomo_func"
   ]
  },
  {
   "cell_type": "markdown",
   "id": "2843c862-792e-4143-a7fa-742627470a9d",
   "metadata": {},
   "source": [
    "### Test the function\n",
    "\n",
    "Test the function by running directly with Globus Compute. "
   ]
  },
  {
   "cell_type": "code",
   "execution_count": null,
   "id": "39e36038",
   "metadata": {},
   "outputs": [],
   "source": [
    "fn = \"/home/rchard/src/IRI/Tomography/phantom_projections.h5\""
   ]
  },
  {
   "cell_type": "code",
   "execution_count": null,
   "id": "4436ee9f",
   "metadata": {},
   "outputs": [],
   "source": [
    "future = gce.submit_to_registered_function(args=[fn], kwargs={'save_folder': '/home/rchard/src/IRI/Tomography/outputs'}, function_id=tomo_func)"
   ]
  },
  {
   "cell_type": "code",
   "execution_count": null,
   "id": "6b742eda",
   "metadata": {},
   "outputs": [],
   "source": [
    "future.result()[0]"
   ]
  },
  {
   "cell_type": "markdown",
   "id": "11b217f9",
   "metadata": {},
   "source": [
    "## Running the flow\n",
    "\n",
    "We can now specify input and start the flow."
   ]
  },
  {
   "cell_type": "code",
   "execution_count": null,
   "id": "ab738aef-c99d-4c50-9312-5850a16daccf",
   "metadata": {},
   "outputs": [],
   "source": [
    "# Configs for lightsources\n",
    "lightsource_configs = {\n",
    "    \"aps\": {\n",
    "        \"transfer_endpoint\": \"6c54cade-bde5-45c1-bdea-f4bd71dba2cc\",\n",
    "        \"source_path\": \"/home/share/godata/file1.txt\",\n",
    "        \"result_path\": \"/~/file1.txt\",\n",
    "    },\n",
    "}\n",
    "\n",
    "# Configs for Compute resources\n",
    "compute_configs = {\n",
    "    \"alcf\": {\n",
    "        \"compute_endpoint\": \"0f44e1f7-baa5-4dfd-a2f6-73051004cfaa\",\n",
    "        \"transfer_endpoint\": \"31ce9ba0-176d-45a5-add3-f37d233ba47d\",\n",
    "        \"staging_path\": \"/~/file1.txt\",\n",
    "    },\n",
    "}"
   ]
  },
  {
   "cell_type": "code",
   "execution_count": null,
   "id": "282b155f",
   "metadata": {},
   "outputs": [],
   "source": [
    "def create_flow_payload(lightsource, compute):\n",
    "    flow_input = {\n",
    "        \"input\": {\n",
    "            \"transfer_in\": {\n",
    "                \"source\": {\n",
    "                    \"id\": lightsource['transfer_endpoint'],\n",
    "                    \"path\": lightsource['source_path']\n",
    "                },\n",
    "                \"destination\": {\n",
    "                    \"id\": compute['transfer_endpoint'],\n",
    "                    \"path\": compute['staging_path']\n",
    "                }\n",
    "            },\n",
    "            \"transfer_out\": {\n",
    "                \"source\": {\n",
    "                    \"id\": compute['transfer_endpoint'],\n",
    "                },\n",
    "                \"destination\": {\n",
    "                    \"id\": lightsource['transfer_endpoint'],\n",
    "                    \"path\": lightsource['result_path'],\n",
    "                }\n",
    "            },\n",
    "            \"compute_endpoint_id\": compute['compute_endpoint'],\n",
    "            \"compute_function_id\": tomo_func,\n",
    "            \"compute_function_kwargs\": {\n",
    "            \"command\": \"recon\",\n",
    "            \"reconstruction_type\": \"slice\",\n",
    "            \"save_folder\": \"/home/rchard/src/IRI/Tomography/outputs\",\n",
    "            \"filename\": \"/home/rchard/src/IRI/Tomography/phantom_projections.h5\"\n",
    "            }\n",
    "        }\n",
    "    }\n",
    "    return flow_input\n",
    "\n",
    "flow_input = create_flow_payload(lightsource_configs['aps'], compute_configs['alcf'])"
   ]
  },
  {
   "cell_type": "markdown",
   "id": "4fa733e0-ccad-41de-abe5-f81390b91e65",
   "metadata": {},
   "source": [
    "Add scopes to the flow to use Mapped Collections. This is necessary if you cannot use a Guest Collection at the facility."
   ]
  },
  {
   "cell_type": "code",
   "execution_count": null,
   "id": "3ffa89e6-93c6-4d37-bb47-21c05f87250c",
   "metadata": {},
   "outputs": [],
   "source": [
    "# Get the data access scope Mapped collections\n",
    "source_transfer_endpoint = flow_input['input']['transfer_in']['source']['id']\n",
    "dest_transfer_endpoint = flow_input['input']['transfer_in']['destination']['id']\n",
    "source_access_scope = GCSCollectionScopeBuilder(source_transfer_endpoint).make_mutable(\"data_access\", optional=True)\n",
    "dest_access_scope = GCSCollectionScopeBuilder(dest_transfer_endpoint).make_mutable(\"data_access\", optional=True)\n",
    "\n",
    "transfer_scope = globus_sdk.scopes.TransferScopes.make_mutable(\"all\")\n",
    "transfer_scope.add_dependency(source_access_scope)\n",
    "transfer_scope.add_dependency(dest_access_scope)\n",
    "\n",
    "# Add the data access scopes as dependencies to the flow\n",
    "flow_scope = specific_flow_client.scopes.make_mutable(\"user\")\n",
    "flow_scope.add_dependency(transfer_scope)\n",
    "\n",
    "my_app.add_scope_requirements({'flow': [flow_scope]})"
   ]
  },
  {
   "cell_type": "code",
   "execution_count": null,
   "id": "a5ed3a9d-92c2-493f-a02c-a7bb3ee0ba24",
   "metadata": {},
   "outputs": [],
   "source": [
    "specific_flow_client = globus_sdk.SpecificFlowClient(\n",
    "    flow_id=flow_id,\n",
    "    app=my_app,\n",
    ")"
   ]
  },
  {
   "cell_type": "code",
   "execution_count": null,
   "id": "10f8aaa5-cc35-4abb-8bb5-590e29069154",
   "metadata": {},
   "outputs": [],
   "source": [
    "run = specific_flow_client.run_flow(\n",
    "  body=flow_input,\n",
    "  label=\"Tomopy run\",\n",
    "  tags=['Tomopy', 'IRI', 'example', f\"Lightsource:{lightsource}\", f\"Compute:{compute}\"]\n",
    ")"
   ]
  },
  {
   "cell_type": "code",
   "execution_count": null,
   "id": "f6b72db7",
   "metadata": {},
   "outputs": [],
   "source": [
    "run_id = run['run_id']\n",
    "run_status = run['status']\n",
    "print(\"This flow can be monitored in the Web App:\")\n",
    "print(f\"https://app.globus.org/runs/{run_id}\")\n",
    "print(f\"Flow run started with ID: {run_id} - Status: {run_status}\")\n",
    "\n",
    "# Poll the Flow service to check on the status of the flow\n",
    "while run_status == 'ACTIVE':\n",
    "    time.sleep(5)\n",
    "    run = flows_client.get_run(run_id)\n",
    "    run_status = run['status']\n",
    "    print(f'Run status: {run_status}')\n",
    "    \n",
    "# Run completed\n",
    "# print(json.dumps(run.data, indent=2))"
   ]
  },
  {
   "cell_type": "code",
   "execution_count": null,
   "id": "e3980bba",
   "metadata": {},
   "outputs": [],
   "source": [
    "run['details']['output']['TomopyOutput']['details']['result'][0][0]"
   ]
  },
  {
   "cell_type": "markdown",
   "id": "4557ffc7",
   "metadata": {},
   "source": [
    "## Attaching an input schema\n",
    "\n",
    "We can use a JSON input schema to both generate the Web interface and provide additional handrails when starting the flow. Here we define the schema and update the flow to include it.\n",
    "\n",
    "Example schema's can be found here: https://github.com/globus/globus-flows-trigger-examples"
   ]
  },
  {
   "cell_type": "code",
   "execution_count": null,
   "id": "5ccad565",
   "metadata": {},
   "outputs": [],
   "source": [
    "schema = {\n",
    "    \"required\": [\n",
    "        \"input\"\n",
    "    ],\n",
    "    \"properties\": {\n",
    "        \"input\": {\n",
    "            \"type\": \"object\",\n",
    "            \"required\": [\n",
    "                \"source\",\n",
    "                \"destination\",\n",
    "                \"recursive_tx\",\n",
    "                \"compute_endpoint_id\",\n",
    "                \"compute_function_id\",\n",
    "                \"compute_function_kwargs\"\n",
    "            ],\n",
    "            \"properties\": {\n",
    "                \"source\": {\n",
    "                    \"type\": \"object\",\n",
    "                    \"title\": \"Select source collection and path\",\n",
    "                    \"description\": \"The source collection and path (path MUST end with a slash)\",\n",
    "                    \"format\": \"globus-collection\",\n",
    "                    \"required\": [\n",
    "                        \"id\",\n",
    "                        \"path\"\n",
    "                    ],\n",
    "                    \"properties\": {\n",
    "                        \"id\": {\n",
    "                            \"type\": \"string\",\n",
    "                            \"format\": \"uuid\"\n",
    "                        },\n",
    "                        \"path\": {\n",
    "                            \"type\": \"string\"\n",
    "                        }\n",
    "                    },\n",
    "                    \"additionalProperties\": False\n",
    "                },\n",
    "                \"destination\": {\n",
    "                    \"type\": \"object\",\n",
    "                    \"title\": \"Select destination collection and path\",\n",
    "                    \"description\": \"The destination collection and path (path MUST end with a slash); default collection is 'Globus Tutorials on ALCF Eagle'\",\n",
    "                    \"format\": \"globus-collection\",\n",
    "                    \"required\": [\n",
    "                        \"id\",\n",
    "                        \"path\"\n",
    "                    ],\n",
    "                    \"properties\": {\n",
    "                        \"id\": {\n",
    "                            \"type\": \"string\",\n",
    "                            \"format\": \"uuid\"\n",
    "                        },\n",
    "                        \"path\": {\n",
    "                            \"type\": \"string\"\n",
    "                        }\n",
    "                    },\n",
    "                    \"additionalProperties\": False\n",
    "                },\n",
    "                \"recursive_tx\": {\n",
    "                    \"type\": \"boolean\",\n",
    "                    \"title\": \"Recursive transfer\",\n",
    "                    \"description\": \"Whether or not to transfer recursively, must be true when transferring a directory.\",\n",
    "                    \"default\": True,\n",
    "                    \"additionalProperties\": False\n",
    "                },\n",
    "                \"compute_endpoint_id\": {\n",
    "                    \"type\": \"string\",\n",
    "                    \"format\": \"uuid\",                        \n",
    "                    \"title\": \"Globus Compute Endpoint ID\",\n",
    "                    \"default\": polaris_ep,\n",
    "                    \"description\": \"The UUID of the Globus Compute endpoint where Tomocupy will run\",\n",
    "                    \"additionalProperties\": False\n",
    "                },\n",
    "                \"compute_function_id\": {\n",
    "                    \"type\": \"string\",\n",
    "                    \"format\": \"uuid\",                        \n",
    "                    \"title\": \"Globus Compute Function ID\",\n",
    "                    \"default\": tomo_func,\n",
    "                    \"description\": \"The UUID of the function to invoke; must be registered with the Globus Compute service\",\n",
    "                    \"additionalProperties\": False\n",
    "                },\n",
    "                \"compute_function_kwargs\": {\n",
    "                    \"type\": \"object\",\n",
    "                    \"title\": \"Function Inputs\",\n",
    "                    \"description\": \"Inputs to pass to the function\",\n",
    "                    \"required\": [\n",
    "                        \"filename\",\n",
    "                        \"command\",\n",
    "                        \"reconstruction_type\",\n",
    "                        \"rotation_axis\",\n",
    "                        \"nsino_per_chunk\"\n",
    "                    ],\n",
    "                    \"properties\": {\n",
    "                        \"filename\": {\n",
    "                            \"type\": \"string\",\n",
    "                        },\n",
    "                        \"command\": {\n",
    "                            \"type\" : \"string\",\n",
    "                            \"description\": \"Reconstruction command: recon, recon_steps\",\n",
    "                            \"default\": \"recon\",\n",
    "                            \"enum\" : [\n",
    "                                \"recon\",\n",
    "                                \"recon_steps\"\n",
    "                            ]\n",
    "                        },\n",
    "                        \"reconstruction_type\": {\n",
    "                            \"type\": \"string\",\n",
    "                            \"description\": \"Reconstruction type: full, try\",\n",
    "                            \"default\": \"full\",\n",
    "                            \"enum\": [\n",
    "                                \"full\", \n",
    "                                \"try\"\n",
    "                            ]\n",
    "                        },\n",
    "                        \"rotation_axis\": {\n",
    "                            \"type\": \"string\",\n",
    "                            \"default\": \"782.5\"\n",
    "                        },\n",
    "                        \"nsino_per_chunk\": {\n",
    "                            \"type\": \"integer\",\n",
    "                            \"default\": 4\n",
    "                        },\n",
    "                    },\n",
    "                    \"additionalProperties\": False\n",
    "                }\n",
    "            },\n",
    "            \"additionalProperties\": False\n",
    "        },    \n",
    "    },\n",
    "    \"additionalProperties\": False\n",
    "}"
   ]
  },
  {
   "cell_type": "code",
   "execution_count": null,
   "id": "d2e2b247",
   "metadata": {
    "scrolled": true
   },
   "outputs": [],
   "source": [
    "flows_client.update_flow(flow_id, definition=flow_definition, input_schema={})"
   ]
  },
  {
   "cell_type": "markdown",
   "id": "79aec70b",
   "metadata": {},
   "source": [
    "## Try it!"
   ]
  },
  {
   "cell_type": "code",
   "execution_count": null,
   "id": "e3dd4460",
   "metadata": {},
   "outputs": [],
   "source": [
    "print(f'https://app.globus.org/flows/{flow_id}')"
   ]
  }
 ],
 "metadata": {
  "kernelspec": {
   "display_name": "Python 3 (ipykernel)",
   "language": "python",
   "name": "python3"
  },
  "language_info": {
   "codemirror_mode": {
    "name": "ipython",
    "version": 3
   },
   "file_extension": ".py",
   "mimetype": "text/x-python",
   "name": "python",
   "nbconvert_exporter": "python",
   "pygments_lexer": "ipython3",
   "version": "3.10.13"
  }
 },
 "nbformat": 4,
 "nbformat_minor": 5
}
