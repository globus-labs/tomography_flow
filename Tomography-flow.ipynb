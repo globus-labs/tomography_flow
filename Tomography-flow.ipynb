{
 "cells": [
  {
   "cell_type": "markdown",
   "id": "0d3813a6",
   "metadata": {},
   "source": [
    "<img src=\"img/automation_using_flows_header.png\">\n",
    "\n",
    "# Cross-Facility Tomography Reconstructions\n",
    "<img src=\"img/lightsources.png\">\n",
    "\n",
    "This notebook shows how [Tomopy](https://tomopy.readthedocs.io/en/latest/) reconstructions can be automated using [Globus Flows](https://www.globus.org/globus-flows-service). The notebook aims to demonstrate how an individual flow can be used to integrate different light sources and compute facilities.\n",
    "\n"
   ]
  },
  {
   "cell_type": "markdown",
   "id": "0ca5d8f2",
   "metadata": {},
   "source": [
    "### Using the Flows GUI"
   ]
  },
  {
   "cell_type": "markdown",
   "id": "8d216f3f",
   "metadata": {},
   "source": [
    "The Globus Flows web app can generate a `start` page to easily invoke flows. To create this page you need to attach an input schema to the flow. This is shown at the end of the notebook.\n",
    "\n",
    "<img src=\"img/input1.png\">"
   ]
  },
  {
   "cell_type": "markdown",
   "id": "07d5e761",
   "metadata": {},
   "source": [
    "### Monitoring the flow\n",
    "Once the flow has been started you can monitor the run. The events tab shows each step of the flow and provides details regarding the input and output of each action.\n",
    "\n",
    "Here you can see the input to the Tomopy step of the flow, showing the input values that are passed into the function to execute.\n",
    "\n",
    "<img src=\"img/running.png\">"
   ]
  },
  {
   "cell_type": "markdown",
   "id": "fcb8ae33",
   "metadata": {},
   "source": [
    "# Creating a Tomopy Flow\n",
    "\n",
    "Here we explain how the flow is defined. Running these steps will register a flow of your own that you can then run.\n",
    "\n",
    "To run these steps you will need to install:\n",
    "\n",
    "`pip install -U globus_sdk`"
   ]
  },
  {
   "cell_type": "markdown",
   "id": "3989f718",
   "metadata": {},
   "source": [
    "Here we create a Globus FlowsClient to securely interact with the Flows service. This will prompt you to login and paste a token into the notebook."
   ]
  },
  {
   "cell_type": "code",
   "execution_count": 1,
   "id": "a29de715-5a27-4671-aaa2-0809f3fbf7ca",
   "metadata": {
    "metadata": {}
   },
   "outputs": [],
   "source": [
    "import os\n",
    "import json\n",
    "import time\n",
    "import globus_sdk\n",
    "\n",
    "from globus_sdk.experimental.globus_app import UserApp\n",
    "from globus_sdk.scopes import GCSCollectionScopeBuilder\n",
    "\n",
    "# Tutorial client ID\n",
    "# We recommend replacing this with your own client for any production use-cases\n",
    "# Create your own at developers.globus.org\n",
    "CLIENT_ID = \"7ca21f4a-11de-4d97-8f84-cb66f7459981\""
   ]
  },
  {
   "cell_type": "code",
   "execution_count": 2,
   "id": "f72abbf6",
   "metadata": {},
   "outputs": [],
   "source": [
    "my_app = UserApp(\"tomography-user-app\", client_id=CLIENT_ID)\n",
    "\n",
    "flows_client = globus_sdk.FlowsClient(app=my_app)"
   ]
  },
  {
   "cell_type": "markdown",
   "id": "c35cecec",
   "metadata": {},
   "source": [
    "Specify the flow definition. This JSON definition is derived from the Amazon Step Functions language. States of the flow are chained together by specifying the `Next` field to construct a pipeline of operations. This flow consists of two steps:\n",
    "\n",
    "1. TransferInputs\n",
    "2. Tomocupy\n",
    "3. TransferResults\n",
    "\n",
    "The first step, TransferFiles, uses the Globus Transfer action provider. The step is given a 300s walltime and the entire input is required to be passed into the step. Static values can be used here to simplify user input.\n",
    "\n",
    "The second step, Tomocupy, uses the Globus Compute action provider. Input is dymanically passed in as `kwargs`, which are then passed to the function to be executed. The step is given a 600s walltime and is the conclusion of the flow."
   ]
  },
  {
   "cell_type": "code",
   "execution_count": 3,
   "id": "7ee683c8",
   "metadata": {},
   "outputs": [],
   "source": [
    "flow_definition = {\n",
    "    \"Comment\": \"Transfer and run Tomopy\",\n",
    "    \"StartAt\": \"TransferInput\",\n",
    "    \"States\": {\n",
    "        \"TransferInput\": {\n",
    "            \"Comment\": \"Transfer input file\",\n",
    "            \"Type\": \"Action\",\n",
    "            \"ActionUrl\": \"https://actions.automate.globus.org/transfer/transfer\",\n",
    "            \"Parameters\": {\n",
    "                \"source_endpoint_id.$\": \"$.input.transfer_in.source.id\",\n",
    "                \"destination_endpoint_id.$\": \"$.input.transfer_in.destination.id\",\n",
    "                \"transfer_items\": [\n",
    "                    {\n",
    "                        \"source_path.$\": \"$.input.transfer_in.source.path\",\n",
    "                        \"destination_path.$\": \"$.input.transfer_in.destination.path\",\n",
    "                        \"recursive\": False\n",
    "                    }\n",
    "                ]\n",
    "            },\n",
    "            \"ResultPath\": \"$.TransferInput\",\n",
    "            \"WaitTime\": 300,\n",
    "            \"Next\": \"Tomopy\"\n",
    "        },\n",
    "        \"Tomopy\": {\n",
    "            \"Comment\": \"Perform Tomopy analysis\",\n",
    "            \"Type\": \"Action\",\n",
    "            \"ActionUrl\": \"https://compute.actions.globus.org/fxap\",\n",
    "            \"Parameters\": {\n",
    "                \"endpoint.$\": \"$.input.compute_endpoint_id\",\n",
    "                \"function.$\": \"$.input.compute_function_id\",\n",
    "                \"kwargs.$\": \"$.input.compute_function_kwargs\"\n",
    "            },\n",
    "            \"ResultPath\": \"$.TomopyOutput\",\n",
    "            \"WaitTime\": 600,\n",
    "            \"Next\": \"TransferResults\"\n",
    "        },\n",
    "        \"TransferResults\": {\n",
    "            \"Comment\": \"Transfer results\",\n",
    "            \"Type\": \"Action\",\n",
    "            \"ActionUrl\": \"https://actions.automate.globus.org/transfer/transfer\",\n",
    "            \"Parameters\": {\n",
    "                \"source_endpoint_id.$\": \"$.input.transfer_out.source.id\",\n",
    "                \"destination_endpoint_id.$\": \"$.input.transfer_out.destination.id\",\n",
    "                \"transfer_items\": [\n",
    "                    {\n",
    "                        \"source_path.$\": \"$.TomopyOutput.details.result[0][1]\",\n",
    "                        \"destination_path.=\": \"`$.input.transfer_out.destination.path` + `$.TomopyOutput.details.result[0][0]`\",\n",
    "                        \"recursive\": False\n",
    "                    }\n",
    "                ]\n",
    "            },\n",
    "            \"ResultPath\": \"$.TransferFiles\",\n",
    "            \"WaitTime\": 300,\n",
    "            \"End\": True\n",
    "        },\n",
    "    }\n",
    "}"
   ]
  },
  {
   "cell_type": "markdown",
   "id": "deb85183",
   "metadata": {},
   "source": [
    "Register the flow. We leave the input schema blank and will later update it to support the web interface."
   ]
  },
  {
   "cell_type": "code",
   "execution_count": 4,
   "id": "bf90c1cf",
   "metadata": {},
   "outputs": [
    {
     "name": "stdout",
     "output_type": "stream",
     "text": [
      "Newly created flow with id:\n",
      "13fb96e0-61b7-41ed-b9f4-a9bfe8e310e4\n"
     ]
    }
   ],
   "source": [
    "flow = flows_client.create_flow(definition=flow_definition, title=\"Tomopy IRI Flow\", input_schema={})\n",
    "flow_id = flow['id']\n",
    "flow_scope = flow['globus_auth_scope']\n",
    "print(f'Newly created flow with id:\\n{flow_id}')"
   ]
  },
  {
   "cell_type": "markdown",
   "id": "72ed205b",
   "metadata": {},
   "source": [
    "## Creating a Tomopy Function\n",
    "\n",
    "To run Tomopy in the flow we need to define a Tomopy function and register it with Globus Compute.\n",
    "\n",
    "**Note, this uses my personal compute endpoint, not a service account endpoint. Access to this endpoint is restricted.**"
   ]
  },
  {
   "cell_type": "code",
   "execution_count": 5,
   "id": "d28edc81",
   "metadata": {},
   "outputs": [],
   "source": [
    "import globus_compute_sdk\n",
    "\n",
    "polaris_ep = '0f44e1f7-baa5-4dfd-a2f6-73051004cfaa'\n",
    "gce = globus_compute_sdk.Executor(endpoint_id=polaris_ep)"
   ]
  },
  {
   "cell_type": "markdown",
   "id": "1c3de22e",
   "metadata": {},
   "source": [
    "Define a function to call tomocupy.\n",
    "\n",
    "This is a simple wrapper function that uses subprocess to invoke a templated bash command to run the tomopy cli."
   ]
  },
  {
   "cell_type": "code",
   "execution_count": 6,
   "id": "aeabdb3f",
   "metadata": {},
   "outputs": [],
   "source": [
    "def tomopy_wrapper(filename, command=\"recon\", reconstruction_type=\"slice\", \n",
    "                   save_folder=\"_rec\", collection_path=\"/eagle\",\n",
    "                  ):\n",
    "    import subprocess\n",
    "    import glob\n",
    "    import os\n",
    "    \n",
    "    cmd = f\"tomopy {command} --file-name {filename} --reconstruction-type {reconstruction_type} --save-folder={save_folder}\"\n",
    "    res = subprocess.run(cmd.split(\" \"), stdout=subprocess.PIPE, stderr=subprocess.PIPE)\n",
    "\n",
    "    # Get the most recent reconstruction file\n",
    "    list_of_files = glob.glob(f'{save_folder}/slice_rec/*')\n",
    "    recon_file = max(list_of_files, key=os.path.getctime)\n",
    "\n",
    "    recon_filename =  os.path.basename(recon_file)\n",
    "    \n",
    "    # The path from a Globus endpoint, this is the output path without the collection prefix\n",
    "    transfer_path = recon_file.replace(collection_path, \"\")\n",
    "    \n",
    "    return recon_filename, transfer_path,  res.returncode, res.stdout.decode(\"utf-8\"), res.stderr.decode(\"utf-8\")"
   ]
  },
  {
   "cell_type": "markdown",
   "id": "7c54ef7b",
   "metadata": {},
   "source": [
    "Register the function with Compute. "
   ]
  },
  {
   "cell_type": "code",
   "execution_count": 7,
   "id": "b9c249df",
   "metadata": {},
   "outputs": [],
   "source": [
    "tomo_func = gce.client.register_function(tomopy_wrapper)"
   ]
  },
  {
   "cell_type": "code",
   "execution_count": 8,
   "id": "d926ebdc",
   "metadata": {},
   "outputs": [
    {
     "data": {
      "text/plain": [
       "'7a88a39a-d9af-446a-bae2-bc218949829b'"
      ]
     },
     "execution_count": 8,
     "metadata": {},
     "output_type": "execute_result"
    }
   ],
   "source": [
    "tomo_func"
   ]
  },
  {
   "cell_type": "markdown",
   "id": "2843c862-792e-4143-a7fa-742627470a9d",
   "metadata": {},
   "source": [
    "### Test the function\n",
    "\n",
    "Test the function by running directly with Globus Compute. "
   ]
  },
  {
   "cell_type": "code",
   "execution_count": 9,
   "id": "39e36038",
   "metadata": {},
   "outputs": [],
   "source": [
    "filename = \"/home/rchard/src/IRI/Tomography/phantom_projections.h5\""
   ]
  },
  {
   "cell_type": "code",
   "execution_count": 10,
   "id": "4436ee9f",
   "metadata": {},
   "outputs": [],
   "source": [
    "future = gce.submit(tomopy_wrapper, filename, save_folder=\"/eagle/APSDataAnalysis/rchard/IRI/outputs\")"
   ]
  },
  {
   "cell_type": "code",
   "execution_count": 12,
   "id": "6b742eda",
   "metadata": {},
   "outputs": [
    {
     "data": {
      "text/plain": [
       "'/APSDataAnalysis/rchard/IRI/outputs/slice_rec/recon_phantom_projections-6.tiff'"
      ]
     },
     "execution_count": 12,
     "metadata": {},
     "output_type": "execute_result"
    }
   ],
   "source": [
    "future.result()[1]"
   ]
  },
  {
   "cell_type": "markdown",
   "id": "11b217f9",
   "metadata": {},
   "source": [
    "## Define Facility information\n",
    "\n",
    "To streamline switching between facility we can specify their endpoint IDs and path information."
   ]
  },
  {
   "cell_type": "code",
   "execution_count": 13,
   "id": "ab738aef-c99d-4c50-9312-5850a16daccf",
   "metadata": {},
   "outputs": [],
   "source": [
    "# Configs for lightsources\n",
    "lightsource_configs = {\n",
    "    \"APS\": {\n",
    "        \"transfer_endpoint\": \"a17d7fac-ce06-4ede-8318-ad8dc98edd69\",\n",
    "        \"source_path\": \"/Tomography/inputs/\",\n",
    "        \"result_path\": \"/Tomography/outputs/\",\n",
    "    },\n",
    "}\n",
    "\n",
    "# Configs for Compute resources\n",
    "compute_configs = {\n",
    "    \"ALCF-Polaris\": {\n",
    "        \"compute_endpoint\": \"0f44e1f7-baa5-4dfd-a2f6-73051004cfaa\",\n",
    "        \"transfer_endpoint\": \"05d2c76a-e867-4f67-aa57-76edeb0beda0\", # dtn#eagle\n",
    "        \"collection_path\": \"/eagle\",\n",
    "        \"staging_path\": \"/APSDataAnalysis/rchard/IRI/\",\n",
    "        \"output_path\": \"/eagle/APSDataAnalysis/rchard/IRI/outputs/\",\n",
    "    },\n",
    "    \"NERSC-Perlmutter\": {\n",
    "        \"compute_endpoint\": \"70f76338-f3a2-4992-9c44-f38af073bb50\",\n",
    "        \"transfer_endpoint\": \"31ce9ba0-176d-45a5-add3-f37d233ba47d\",\n",
    "        \"project_path\": \"\",\n",
    "        \"staging_path\": \"\",\n",
    "        \"output_path\": \"\",\n",
    "    },\n",
    "}"
   ]
  },
  {
   "cell_type": "markdown",
   "id": "c95f3797-6bd1-474b-8545-c1d292010bda",
   "metadata": {},
   "source": [
    "## Running the flow\n",
    "We can now specify input and start the flow."
   ]
  },
  {
   "cell_type": "code",
   "execution_count": 14,
   "id": "282b155f",
   "metadata": {},
   "outputs": [],
   "source": [
    "def create_flow_payload(input_filename, lightsource, compute):\n",
    "    flow_input = {\n",
    "        \"input\": {\n",
    "            \"transfer_in\": {\n",
    "                \"source\": {\n",
    "                    \"id\": lightsource['transfer_endpoint'],\n",
    "                    \"path\": lightsource['source_path'] + input_filename\n",
    "                },\n",
    "                \"destination\": {\n",
    "                    \"id\": compute['transfer_endpoint'],\n",
    "                    \"path\": compute['staging_path'] + input_filename\n",
    "                }\n",
    "            },\n",
    "            \"transfer_out\": {\n",
    "                \"source\": {\n",
    "                    \"id\": compute['transfer_endpoint'],\n",
    "                    # Result path is provided by the function output\n",
    "                },\n",
    "                \"destination\": {\n",
    "                    \"id\": lightsource['transfer_endpoint'],\n",
    "                    \"path\": lightsource['result_path'],\n",
    "                }\n",
    "            },\n",
    "            \"compute_endpoint_id\": compute['compute_endpoint'],\n",
    "            \"compute_function_id\": tomo_func,\n",
    "            \"compute_function_kwargs\": {\n",
    "            \"command\": \"recon\",\n",
    "            \"reconstruction_type\": \"slice\",\n",
    "            \"save_folder\": compute['output_path'],\n",
    "            \"collection_path\": compute['collection_path'],\n",
    "            \"filename\": compute['collection_path'] + compute['staging_path'] + input_filename\n",
    "            }\n",
    "        }\n",
    "    }\n",
    "    return flow_input"
   ]
  },
  {
   "cell_type": "code",
   "execution_count": 15,
   "id": "d66c5f26-a3fe-4505-a920-2d30db613ae7",
   "metadata": {},
   "outputs": [],
   "source": [
    "lightsource = \"APS\"\n",
    "compute_site = \"ALCF-Polaris\""
   ]
  },
  {
   "cell_type": "code",
   "execution_count": 16,
   "id": "12faa8e1",
   "metadata": {},
   "outputs": [],
   "source": [
    "flow_input = create_flow_payload(\"test_data_1.h5\", lightsource_configs[lightsource], compute_configs[compute_site])"
   ]
  },
  {
   "cell_type": "markdown",
   "id": "4fa733e0-ccad-41de-abe5-f81390b91e65",
   "metadata": {},
   "source": [
    "Add scopes to the flow to use Mapped Collections. This is necessary if you cannot use a Guest Collection at the facility."
   ]
  },
  {
   "cell_type": "code",
   "execution_count": 17,
   "id": "c66af4a9-a131-4131-a6b3-5cd21ad5b04e",
   "metadata": {},
   "outputs": [],
   "source": [
    "specific_flow_client = globus_sdk.SpecificFlowClient(\n",
    "    flow_id=flow_id,\n",
    "    app=my_app,\n",
    ")"
   ]
  },
  {
   "cell_type": "code",
   "execution_count": 18,
   "id": "3ffa89e6-93c6-4d37-bb47-21c05f87250c",
   "metadata": {},
   "outputs": [],
   "source": [
    "# Get the data access scope Mapped collections\n",
    "# source_transfer_endpoint = flow_input['input']['transfer_in']['source']['id']\n",
    "# source_access_scope = GCSCollectionScopeBuilder(source_transfer_endpoint).make_mutable(\"data_access\", optional=True)\n",
    "\n",
    "dest_transfer_endpoint = flow_input['input']['transfer_in']['destination']['id']\n",
    "dest_access_scope = GCSCollectionScopeBuilder(dest_transfer_endpoint).make_mutable(\"data_access\", optional=True)\n",
    "\n",
    "transfer_scope = globus_sdk.scopes.TransferScopes.make_mutable(\"all\")\n",
    "# transfer_scope.add_dependency(source_access_scope)\n",
    "transfer_scope.add_dependency(dest_access_scope)\n",
    "\n",
    "# Add the data access scopes as dependencies to the flow\n",
    "flow_scope = specific_flow_client.scopes.make_mutable(\"user\")\n",
    "flow_scope.add_dependency(transfer_scope)\n",
    "\n",
    "my_app.add_scope_requirements({'flow': [flow_scope]})"
   ]
  },
  {
   "cell_type": "code",
   "execution_count": 24,
   "id": "10f8aaa5-cc35-4abb-8bb5-590e29069154",
   "metadata": {},
   "outputs": [],
   "source": [
    "run = specific_flow_client.run_flow(\n",
    "  body=flow_input,\n",
    "  label=\"Tomopy run\",\n",
    "  tags=['Tomopy', 'IRI', 'example', f\"Lightsource:{lightsource}\", f\"Compute:{compute_site}\"]\n",
    ")"
   ]
  },
  {
   "cell_type": "code",
   "execution_count": 25,
   "id": "f6b72db7",
   "metadata": {},
   "outputs": [
    {
     "name": "stdout",
     "output_type": "stream",
     "text": [
      "This flow can be monitored in the Web App:\n",
      "https://app.globus.org/runs/97b91210-cc22-4a26-a985-0feb260585c5\n",
      "Flow run started with ID: 97b91210-cc22-4a26-a985-0feb260585c5 - Status: ACTIVE\n",
      "Run status: ACTIVE\n",
      "Run status: ACTIVE\n",
      "Run status: ACTIVE\n",
      "Run status: ACTIVE\n",
      "Run status: ACTIVE\n",
      "Run status: ACTIVE\n",
      "Run status: ACTIVE\n",
      "Run status: ACTIVE\n",
      "Run status: ACTIVE\n",
      "Run status: ACTIVE\n",
      "Run status: SUCCEEDED\n"
     ]
    }
   ],
   "source": [
    "run_id = run['run_id']\n",
    "run_status = run['status']\n",
    "print(\"This flow can be monitored in the Web App:\")\n",
    "print(f\"https://app.globus.org/runs/{run_id}\")\n",
    "print(f\"Flow run started with ID: {run_id} - Status: {run_status}\")\n",
    "\n",
    "# Poll the Flow service to check on the status of the flow\n",
    "while run_status == 'ACTIVE':\n",
    "    time.sleep(5)\n",
    "    run = flows_client.get_run(run_id)\n",
    "    run_status = run['status']\n",
    "    print(f'Run status: {run_status}')\n",
    "    \n",
    "# Run completed\n",
    "# print(json.dumps(run.data, indent=2))"
   ]
  },
  {
   "cell_type": "code",
   "execution_count": 26,
   "id": "e3980bba",
   "metadata": {},
   "outputs": [
    {
     "data": {
      "text/plain": [
       "'recon_test_data_1-1.tiff'"
      ]
     },
     "execution_count": 26,
     "metadata": {},
     "output_type": "execute_result"
    }
   ],
   "source": [
    "run['details']['output']['TomopyOutput']['details']['result'][0][0]"
   ]
  }
 ],
 "metadata": {
  "kernelspec": {
   "display_name": "Python 3 (ipykernel)",
   "language": "python",
   "name": "python3"
  },
  "language_info": {
   "codemirror_mode": {
    "name": "ipython",
    "version": 3
   },
   "file_extension": ".py",
   "mimetype": "text/x-python",
   "name": "python",
   "nbconvert_exporter": "python",
   "pygments_lexer": "ipython3",
   "version": "3.10.13"
  }
 },
 "nbformat": 4,
 "nbformat_minor": 5
}
