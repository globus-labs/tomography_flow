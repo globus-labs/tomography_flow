{
 "cells": [
  {
   "cell_type": "markdown",
   "id": "0d3813a6",
   "metadata": {},
   "source": [
    "<img src=\"img/automation_using_flows_header.png\">\n",
    "\n",
    "\n",
    "# Tomocupy Reconstruction\n",
    "\n",
    "This notebook shows how [Globus Flows](https://www.globus.org/globus-flows-service) can be used to perform tomogragphy reconstructions using [Tomocupy](https://tomocupy.readthedocs.io/en/latest/).\n",
    "\n",
    "Globus Flows is a reliable and secure platform for orchestrating and performing research data management and analysis tasks. A flow is often needed to manage data coming from instruments, e.g., image files can be moved from local storage attached to a microscope to a high-performance storage system where they may be accessed by all members of the research project.\n",
    "\n",
    "In this notebook we show how the Flows web app can be used to launch tomocupy tasks at ALCF. We then walk through the process of creating a simple flow and describe potential extensions to make it applicable in real use cases.\n",
    "\n",
    "More examples of creating and running flows can be found on our [demo instance](https://jupyter.demo.globus.org/hub/).\n"
   ]
  },
  {
   "cell_type": "markdown",
   "id": "c2028f76",
   "metadata": {},
   "source": [
    "We have created an example flow to run Tomocupy on-demand at Polaris. This flow is protected by a Globus Group, requiring membership before you can run it. You can request to join the group here: https://app.globus.org/groups/7a86a971-062b-11ee-ac1b-51c1fdd25192/about\n",
    "\n",
    "**The flow is available here: https://app.globus.org/flows/337bc825-a81e-477e-aa6d-1d0f75e4928d**\n",
    "\n",
    "This example simply includes two steps:\n",
    "1. Transfer input data with Globus Transfer\n",
    "2. Run Tomocupy via Globus Compute\n",
    "\n",
    "This can easily be extended to include further steps to return data, perform postprocessing, or publish and catalog results.\n",
    "\n",
    "\n",
    "### Auth\n",
    "The flow manages authentication by seamlessly passing tokens between the services. When the flow is started it first acquires tokens for each service used within the flow to perform actions on the user's behalf. Provided the user has access to the Globus Transfer and Compute endpoints the flow will be able to move data and perform analysis as the user.\n",
    "\n",
    "While this example notebook employs user tokens to run, production deployments can be automated using an ALCF Service account and Globus Client credential. A service account provides access to ALCF for a specific resource (e.g., a beamline). Following this model, a Globus Compute endpoint can be configured on behalf of the service account and the flow can be granted access. This allows flows to be launched without a human in the loop, making it ideal for automated analysis and publication pipelines."
   ]
  },
  {
   "cell_type": "markdown",
   "id": "0ca5d8f2",
   "metadata": {},
   "source": [
    "## Using the flow via GUI"
   ]
  },
  {
   "cell_type": "markdown",
   "id": "8d216f3f",
   "metadata": {},
   "source": [
    "The flow has been created with a JSON Schema input schema to define the required and optional parameters. This allows the Flows web app to automatically generate an input page to start the flow via a GUI. \n",
    "\n",
    "Here we walk through starting and monitoring the Tomocupy flow via the web app.\n",
    "\n",
    "### Step 1: Provide input.\n",
    "The flow requires source and destination information to transfer an input to the machine for analysis. The input page recognizes the input type as an endpoint and provides interactive search and browse capabilities to select input files.\n",
    "<img src=\"img/input1.png\">"
   ]
  },
  {
   "cell_type": "markdown",
   "id": "30baf78e",
   "metadata": {},
   "source": [
    "### Step 2: Specify reconstruction parameters\n",
    "Here we specify various inputs to pass to the Tomocupy step of the flow. These include the command, an enum of `recon` or `recon_steps`, reconstruction type, rotation, and nsino per chunk.\n",
    "\n",
    "The input schema restricts the values of these fields to specific values and types, only allowing the flow to be started when appropriate values are specified.\n",
    "\n",
    "Filename is used to reference the location of the file at ALCF. We note that this can be automatically determined when the ALCF project path is known ahead of time, e.g., when using a service account and allocation.\n",
    "\n",
    "\n",
    "<img src=\"img/input2.png\">"
   ]
  },
  {
   "cell_type": "markdown",
   "id": "07d5e761",
   "metadata": {},
   "source": [
    "### Step 3: Start and monitor the flow\n",
    "Once started the flow can be monitored through the web app. The events tab shows each step of the flow and provides details regarding the input and output of each action.\n",
    "\n",
    "Here you can see the input to the Tomocupy step of the flow, showing the input values that are passed into the function to execute.\n",
    "\n",
    "<img src=\"img/running.png\">"
   ]
  },
  {
   "cell_type": "markdown",
   "id": "1bc6b878",
   "metadata": {},
   "source": [
    "### Step 4: Review the result\n",
    "The result of the flow can be retrieved from the final step. Here we see a raw stdout dump from the execution of Tomocupy. The result could be processed and better formatted to use as input in subseqent flow steps.\n",
    "\n",
    "<img src=\"img/results.png\">"
   ]
  },
  {
   "cell_type": "markdown",
   "id": "fcb8ae33",
   "metadata": {},
   "source": [
    "## Creating the flow\n",
    "\n",
    "Here we explain how the flow is defined. Running these steps will register a flow of your own that you can then run.\n",
    "\n",
    "To run these steps you will need to install:\n",
    "\n",
    "`pip install -U globus_sdk`"
   ]
  },
  {
   "cell_type": "markdown",
   "id": "3989f718",
   "metadata": {},
   "source": [
    "### Registering the flow.\n",
    "\n",
    "We first create a Globus FlowsClient to securely interact with the Flows service. This will prompt you to login and paste a token into the notebook."
   ]
  },
  {
   "cell_type": "code",
   "execution_count": null,
   "id": "a29de715-5a27-4671-aaa2-0809f3fbf7ca",
   "metadata": {
    "metadata": {}
   },
   "outputs": [],
   "source": [
    "import os\n",
    "import time\n",
    "import globus_sdk\n",
    "\n",
    "from utils import get_flows_client, get_specific_flow_client\n",
    "\n",
    "# Tutorial client ID\n",
    "# We recommend replacing this with your own client for any production use-cases\n",
    "# Create your own at developers.globus.org\n",
    "CLIENT_ID = '418ad188-a040-48b3-ab78-d7a64c4507f9'\n",
    "CLIENT_SECRET = 'blah'"
   ]
  },
  {
   "cell_type": "code",
   "execution_count": null,
   "id": "f72abbf6",
   "metadata": {},
   "outputs": [],
   "source": [
    "fc = get_flows_client(CLIENT_ID, CLIENT_SECRET)"
   ]
  },
  {
   "cell_type": "markdown",
   "id": "3fb2fb6e",
   "metadata": {},
   "source": [
    "Specify the flow definition. This JSON definition is derived from the Amazon Step Functions language. States of the flow are chained together by specifying the `Next` field to construct a pipeline of operations. This flow consists of two steps:\n",
    "\n",
    "1. TransferFiles\n",
    "2. Tomocupy\n",
    "\n",
    "The first step, TransferFiles, uses the Globus Transfer action provider. The step is given a 300s walltime and the entire input is required to be passed into the step. Static values can be used here to simplify user input.\n",
    "\n",
    "The second step, Tomocupy, uses the Globus Compute action provider. Input is dymanically passed in as `kwargs`, which are then passed to the function to be executed. The step is given a 600s walltime and is the conclusion of the flow."
   ]
  },
  {
   "cell_type": "markdown",
   "id": "c35cecec",
   "metadata": {},
   "source": [
    "Specify the flow definition. This JSON definition is derived from the Amazon Step Functions language. States of the flow are chained together by specifying the `Next` field to construct a pipeline of operations. This flow consists of two steps:\n",
    "\n",
    "1. TransferFiles\n",
    "2. Tomocupy\n",
    "\n",
    "The first step, TransferFiles, uses the Globus Transfer action provider. The step is given a 300s walltime and the entire input is required to be passed into the step. Static values can be used here to simplify user input.\n",
    "\n",
    "The second step, Tomocupy, uses the Globus Compute action provider. Input is dymanically passed in as `kwargs`, which are then passed to the function to be executed. The step is given a 600s walltime and is the conclusion of the flow."
   ]
  },
  {
   "cell_type": "code",
   "execution_count": null,
   "id": "7ee683c8",
   "metadata": {},
   "outputs": [],
   "source": [
    "flow_definition = {\n",
    "    \"Comment\": \"Transfer and run Tomocupy\",\n",
    "    \"StartAt\": \"TransferFiles\",\n",
    "    \"States\": {\n",
    "        \"TransferFiles\": {\n",
    "            \"Comment\": \"Transfer files\",\n",
    "            \"Type\": \"Action\",\n",
    "            \"ActionUrl\": \"https://actions.automate.globus.org/transfer/transfer\",\n",
    "            \"Parameters\": {\n",
    "                \"source_endpoint_id.$\": \"$.input.source.id\",\n",
    "                \"destination_endpoint_id.$\": \"$.input.destination.id\",\n",
    "                \"transfer_items\": [\n",
    "                    {\n",
    "                        \"source_path.$\": \"$.input.source.path\",\n",
    "                        \"destination_path.$\": \"$.input.destination.path\",\n",
    "                        \"recursive.$\": \"$.input.recursive_tx\"\n",
    "                    }\n",
    "                ]\n",
    "            },\n",
    "            \"ResultPath\": \"$.TransferFiles\",\n",
    "            \"WaitTime\": 300,\n",
    "            \"Next\": \"Tomocupy\"\n",
    "        },\n",
    "        \"Tomocupy\": {\n",
    "            \"Comment\": \"Tomocupy\",\n",
    "            \"Type\": \"Action\",\n",
    "            \"ActionUrl\": \"https://compute.actions.globus.org/fxap\",\n",
    "            \"Parameters\": {\n",
    "                \"endpoint.$\": \"$.input.compute_endpoint_id\",\n",
    "                \"function.$\": \"$.input.compute_function_id\",\n",
    "                \"kwargs.$\": \"$.input.compute_function_kwargs\"\n",
    "            },\n",
    "            \"ResultPath\": \"$.TomocupyOutput\",\n",
    "            \"WaitTime\": 600,\n",
    "            \"End\": True\n",
    "        }\n",
    "    }\n",
    "}"
   ]
  },
  {
   "cell_type": "markdown",
   "id": "deb85183",
   "metadata": {},
   "source": [
    "Register the flow. We leave the input schema blank and will later update it to support the web interface."
   ]
  },
  {
   "cell_type": "code",
   "execution_count": null,
   "id": "bf90c1cf",
   "metadata": {},
   "outputs": [],
   "source": [
    "flow = fc.create_flow(definition=flow_definition, title=\"Tomocupy flow\", input_schema={})\n",
    "flow_id = flow['id']\n",
    "print(flow)\n",
    "flow_scope = flow['globus_auth_scope']\n",
    "print(f'Newly created flow with id:\\n{flow_id}\\nand scope:\\n{flow_scope}')"
   ]
  },
  {
   "cell_type": "markdown",
   "id": "72ed205b",
   "metadata": {},
   "source": [
    "## Defining a Tomocupy function\n",
    "\n",
    "To run tomocupy via the flow we need to register a function with Globus Compute. Here we define and register this function."
   ]
  },
  {
   "cell_type": "code",
   "execution_count": null,
   "id": "d28edc81",
   "metadata": {},
   "outputs": [],
   "source": [
    "import globus_compute_sdk\n",
    "from globus_compute_sdk.sdk.login_manager import AuthorizerLoginManager\n",
    "from globus_compute_sdk.sdk.login_manager.manager import ComputeScopeBuilder\n",
    "from globus_sdk.scopes import AuthScopes"
   ]
  },
  {
   "cell_type": "code",
   "execution_count": null,
   "id": "8892740b-2005-4b0c-8e1b-40539478ebe9",
   "metadata": {},
   "outputs": [],
   "source": [
    "if CLIENT_SECRET:\n",
    "    # If using client credentials, you can either export GLOBUS_COMPUTE_CLIENT_ID and GLOBUS_COMPUTE_CLIENT_SECRET environment variables\n",
    "    # or create a LoginManager using the creds.\n",
    "    client = globus_sdk.ConfidentialAppAuthClient(\n",
    "               client_id=CLIENT_ID, client_secret=CLIENT_SECRET\n",
    "    )\n",
    "    ComputeScopes = ComputeScopeBuilder()\n",
    "    # Make the authorizers\n",
    "    compute_authorizer = globus_sdk.ClientCredentialsAuthorizer(client, ComputeScopes.all)\n",
    "    auth_authorizer = globus_sdk.ClientCredentialsAuthorizer(client, AuthScopes.openid)\n",
    "    # Make a login manager from the authorizers\n",
    "    compute_login_manager = AuthorizerLoginManager(\n",
    "            authorizers={ComputeScopes.resource_server: compute_authorizer,\n",
    "                         AuthScopes.resource_server: auth_authorizer})\n",
    "    # Make a client with the login manager\n",
    "    gc = globus_compute_sdk.Client(login_manager=compute_login_manager)\n",
    "else:\n",
    "    gc = globus_compute_sdk.Client()"
   ]
  },
  {
   "cell_type": "markdown",
   "id": "1c3de22e",
   "metadata": {},
   "source": [
    "Define a function to call tomocupy.\n",
    "\n",
    "This is a simple wrapper function that uses subprocess to invoke a templated bash command to run tomocupy.\n",
    "\n",
    "Further postprocessing can be applied within this function. Any JSON returned here will be usable within the flow in subsequent steps."
   ]
  },
  {
   "cell_type": "code",
   "execution_count": null,
   "id": "aeabdb3f",
   "metadata": {},
   "outputs": [],
   "source": [
    "def tomocupy_wrapper(filename, command=\"recon\", reconstruction_type=\"full\", \n",
    "                     rotation_axis=782.5, nsino_per_chunk=4):\n",
    "    import subprocess\n",
    "    \n",
    "    cmd = f\"tomocupy {command} --cores 8 --file-name {filename} --reconstruction-type {reconstruction_type} --rotation-axis {rotation_axis} --nsino-per-chunk {nsino_per_chunk} \" \n",
    "    return cmd\n",
    "    res = subprocess.run(cmd.split(\" \"), stdout=subprocess.PIPE, stderr=subprocess.PIPE)\n",
    "    \n",
    "    return res.returncode, res.stdout.decode(\"utf-8\"), res.stderr.decode(\"utf-8\")"
   ]
  },
  {
   "cell_type": "markdown",
   "id": "7c54ef7b",
   "metadata": {},
   "source": [
    "Register the function with Compute. "
   ]
  },
  {
   "cell_type": "code",
   "execution_count": null,
   "id": "b9c249df",
   "metadata": {},
   "outputs": [],
   "source": [
    "tomo_func = gc.register_function(tomocupy_wrapper)"
   ]
  },
  {
   "cell_type": "code",
   "execution_count": null,
   "id": "d926ebdc",
   "metadata": {},
   "outputs": [],
   "source": [
    "tomo_func"
   ]
  },
  {
   "cell_type": "markdown",
   "id": "51366075",
   "metadata": {},
   "source": [
    "### Testing the function\n",
    "\n",
    "Test the function by running it via Globus Compute. \n",
    "\n",
    "**Note, this uses my personal compute endpoint, not a service account endpoint. Access to this endpoint is restricted and will not work for others.**"
   ]
  },
  {
   "cell_type": "code",
   "execution_count": null,
   "id": "8669e7aa",
   "metadata": {},
   "outputs": [],
   "source": [
    "polaris_ep = '4b116d3c-1703-4f8f-9f6f-39921e5864df'\n",
    "gce = globus_compute_sdk.Executor(endpoint_id=polaris_ep, client=gc)"
   ]
  },
  {
   "cell_type": "code",
   "execution_count": null,
   "id": "39e36038",
   "metadata": {},
   "outputs": [],
   "source": [
    "fn = \"/home/rchard/src/APS/tomocupy/tests/data/test_data.h5\""
   ]
  },
  {
   "cell_type": "code",
   "execution_count": null,
   "id": "4436ee9f",
   "metadata": {},
   "outputs": [],
   "source": [
    "future = gce.submit_to_registered_function(args=[fn], function_id=tomo_func)"
   ]
  },
  {
   "cell_type": "code",
   "execution_count": null,
   "id": "6b742eda",
   "metadata": {},
   "outputs": [],
   "source": [
    "future.result()"
   ]
  },
  {
   "cell_type": "markdown",
   "id": "11b217f9",
   "metadata": {},
   "source": [
    "## Running the flow\n",
    "\n",
    "We can now specify input and start the flow."
   ]
  },
  {
   "cell_type": "code",
   "execution_count": null,
   "id": "c4fd199e-86e0-47c0-b0e2-8c16cd659e7c",
   "metadata": {},
   "outputs": [],
   "source": [
    "transfer_endpoint_uuid = '6c54cade-bde5-45c1-bdea-f4bd71dba2cc'"
   ]
  },
  {
   "cell_type": "code",
   "execution_count": null,
   "id": "282b155f",
   "metadata": {},
   "outputs": [],
   "source": [
    "flow_input = {\n",
    "    \"input\": {\n",
    "      \"source\": {\n",
    "        \"id\": transfer_endpoint_uuid,\n",
    "        \"path\": \"/home/share/godata/\"\n",
    "      },\n",
    "      \"destination\": {\n",
    "        \"id\": transfer_endpoint_uuid,\n",
    "        \"path\": \"/~/\"\n",
    "      },\n",
    "      \"recursive_tx\": True,\n",
    "      \"compute_endpoint_id\": polaris_ep,\n",
    "      \"compute_function_id\": tomo_func,\n",
    "      \"compute_function_kwargs\": {\n",
    "        \"command\": \"recon\",\n",
    "        \"reconstruction_type\": \"full\",\n",
    "        \"rotation_axis\": \"782.5\",\n",
    "        \"nsino_per_chunk\": 4,\n",
    "        \"filename\": \"/home/rchard/src/APS/tomocupy/tests/data/test_data.h5\"\n",
    "      }\n",
    "    }\n",
    "}"
   ]
  },
  {
   "cell_type": "code",
   "execution_count": null,
   "id": "a5ed3a9d-92c2-493f-a02c-a7bb3ee0ba24",
   "metadata": {},
   "outputs": [],
   "source": [
    "run_client = get_specific_flow_client(flow_id, client_id=CLIENT_ID, client_secret=CLIENT_SECRET, collection_ids=[transfer_endpoint_uuid])"
   ]
  },
  {
   "cell_type": "code",
   "execution_count": null,
   "id": "f6b72db7",
   "metadata": {},
   "outputs": [],
   "source": [
    "flow_action = run_client.run_flow(flow_input, label=\"Tomocupy run\", tags=[\"demo\", \"tomocupy\"])\n",
    "flow_run_id = flow_action['action_id']\n",
    "\n",
    "print(f'Flow action started with id: {flow_run_id}')\n",
    "\n",
    "print(f\"Monitor your flow here: https://app.globus.org/runs/{flow_run_id}\")\n",
    "\n",
    "flow_status = flow_action['status']\n",
    "while flow_status == 'ACTIVE':\n",
    "    time.sleep(10)\n",
    "    flow_action = fc.get_run(flow_run_id)\n",
    "    flow_status = flow_action['status']\n",
    "    print(f'Flow status: {flow_status}')"
   ]
  },
  {
   "cell_type": "code",
   "execution_count": null,
   "id": "e3980bba",
   "metadata": {},
   "outputs": [],
   "source": [
    "flow_action['details']['output']['TomocupyOutput']['details']['result']"
   ]
  },
  {
   "cell_type": "markdown",
   "id": "4557ffc7",
   "metadata": {},
   "source": [
    "## Attaching an input schema\n",
    "\n",
    "We can use a JSON input schema to both generate the Web interface and provide additional handrails when starting the flow. Here we define the schema and update the flow to include it.\n",
    "\n",
    "Example schema's can be found here: https://github.com/globus/globus-flows-trigger-examples"
   ]
  },
  {
   "cell_type": "code",
   "execution_count": null,
   "id": "5ccad565",
   "metadata": {},
   "outputs": [],
   "source": [
    "schema = {\n",
    "    \"required\": [\n",
    "        \"input\"\n",
    "    ],\n",
    "    \"properties\": {\n",
    "        \"input\": {\n",
    "            \"type\": \"object\",\n",
    "            \"required\": [\n",
    "                \"source\",\n",
    "                \"destination\",\n",
    "                \"recursive_tx\",\n",
    "                \"compute_endpoint_id\",\n",
    "                \"compute_function_id\",\n",
    "                \"compute_function_kwargs\"\n",
    "            ],\n",
    "            \"properties\": {\n",
    "                \"source\": {\n",
    "                    \"type\": \"object\",\n",
    "                    \"title\": \"Select source collection and path\",\n",
    "                    \"description\": \"The source collection and path (path MUST end with a slash)\",\n",
    "                    \"format\": \"globus-collection\",\n",
    "                    \"required\": [\n",
    "                        \"id\",\n",
    "                        \"path\"\n",
    "                    ],\n",
    "                    \"properties\": {\n",
    "                        \"id\": {\n",
    "                            \"type\": \"string\",\n",
    "                            \"format\": \"uuid\"\n",
    "                        },\n",
    "                        \"path\": {\n",
    "                            \"type\": \"string\"\n",
    "                        }\n",
    "                    },\n",
    "                    \"additionalProperties\": False\n",
    "                },\n",
    "                \"destination\": {\n",
    "                    \"type\": \"object\",\n",
    "                    \"title\": \"Select destination collection and path\",\n",
    "                    \"description\": \"The destination collection and path (path MUST end with a slash); default collection is 'Globus Tutorials on ALCF Eagle'\",\n",
    "                    \"format\": \"globus-collection\",\n",
    "                    \"required\": [\n",
    "                        \"id\",\n",
    "                        \"path\"\n",
    "                    ],\n",
    "                    \"properties\": {\n",
    "                        \"id\": {\n",
    "                            \"type\": \"string\",\n",
    "                            \"format\": \"uuid\"\n",
    "                        },\n",
    "                        \"path\": {\n",
    "                            \"type\": \"string\"\n",
    "                        }\n",
    "                    },\n",
    "                    \"additionalProperties\": False\n",
    "                },\n",
    "                \"recursive_tx\": {\n",
    "                    \"type\": \"boolean\",\n",
    "                    \"title\": \"Recursive transfer\",\n",
    "                    \"description\": \"Whether or not to transfer recursively, must be true when transferring a directory.\",\n",
    "                    \"default\": True,\n",
    "                    \"additionalProperties\": False\n",
    "                },\n",
    "                \"compute_endpoint_id\": {\n",
    "                    \"type\": \"string\",\n",
    "                    \"format\": \"uuid\",                        \n",
    "                    \"title\": \"Globus Compute Endpoint ID\",\n",
    "                    \"default\": polaris_ep,\n",
    "                    \"description\": \"The UUID of the Globus Compute endpoint where Tomocupy will run\",\n",
    "                    \"additionalProperties\": False\n",
    "                },\n",
    "                \"compute_function_id\": {\n",
    "                    \"type\": \"string\",\n",
    "                    \"format\": \"uuid\",                        \n",
    "                    \"title\": \"Globus Compute Function ID\",\n",
    "                    \"default\": tomo_func,\n",
    "                    \"description\": \"The UUID of the function to invoke; must be registered with the Globus Compute service\",\n",
    "                    \"additionalProperties\": False\n",
    "                },\n",
    "                \"compute_function_kwargs\": {\n",
    "                    \"type\": \"object\",\n",
    "                    \"title\": \"Function Inputs\",\n",
    "                    \"description\": \"Inputs to pass to the function\",\n",
    "                    \"required\": [\n",
    "                        \"filename\",\n",
    "                        \"command\",\n",
    "                        \"reconstruction_type\",\n",
    "                        \"rotation_axis\",\n",
    "                        \"nsino_per_chunk\"\n",
    "                    ],\n",
    "                    \"properties\": {\n",
    "                        \"filename\": {\n",
    "                            \"type\": \"string\",\n",
    "                        },\n",
    "                        \"command\": {\n",
    "                            \"type\" : \"string\",\n",
    "                            \"description\": \"Reconstruction command: recon, recon_steps\",\n",
    "                            \"default\": \"recon\",\n",
    "                            \"enum\" : [\n",
    "                                \"recon\",\n",
    "                                \"recon_steps\"\n",
    "                            ]\n",
    "                        },\n",
    "                        \"reconstruction_type\": {\n",
    "                            \"type\": \"string\",\n",
    "                            \"description\": \"Reconstruction type: full, try\",\n",
    "                            \"default\": \"full\",\n",
    "                            \"enum\": [\n",
    "                                \"full\", \n",
    "                                \"try\"\n",
    "                            ]\n",
    "                        },\n",
    "                        \"rotation_axis\": {\n",
    "                            \"type\": \"string\",\n",
    "                            \"default\": \"782.5\"\n",
    "                        },\n",
    "                        \"nsino_per_chunk\": {\n",
    "                            \"type\": \"integer\",\n",
    "                            \"default\": 4\n",
    "                        },\n",
    "                    },\n",
    "                    \"additionalProperties\": False\n",
    "                }\n",
    "            },\n",
    "            \"additionalProperties\": False\n",
    "        },    \n",
    "    },\n",
    "    \"additionalProperties\": False\n",
    "}"
   ]
  },
  {
   "cell_type": "code",
   "execution_count": null,
   "id": "d2e2b247",
   "metadata": {
    "scrolled": true
   },
   "outputs": [],
   "source": [
    "fc.update_flow(flow_id, definition=flow_definition, input_schema=schema)"
   ]
  },
  {
   "cell_type": "markdown",
   "id": "79aec70b",
   "metadata": {},
   "source": [
    "## Try it!"
   ]
  },
  {
   "cell_type": "code",
   "execution_count": null,
   "id": "e3dd4460",
   "metadata": {},
   "outputs": [],
   "source": [
    "print(f'https://app.globus.org/flows/{flow_id}')"
   ]
  },
  {
   "cell_type": "markdown",
   "id": "ae5fceb1",
   "metadata": {},
   "source": [
    "## Gladier toolkit\n",
    "\n",
    "We have developed a toolkit to streamline and support the development of complex flows. The Gladier toolkit (https://gladier.readthedocs.io/) provides helper functions to automatically re-register compute functions, cache flows, manage inputs, and generate JSON flow definitions.\n",
    "\n",
    "The upshot of the Gladier toolkit is that your flow defintion would look something like:\n",
    "\n",
    "```@generate_flow_definition\n",
    "class TomocupyFlow(GladierBaseClient):\n",
    "    gladier_tools = [\n",
    "        'gladier_tools.globus.Transfer',\n",
    "        'gladier_tools.posix.ShellCMDTool',\n",
    "        'gladier_tools.publish.PublishV2',\n",
    "    ]\n",
    "```"
   ]
  },
  {
   "cell_type": "code",
   "execution_count": null,
   "id": "149a2cdf",
   "metadata": {},
   "outputs": [],
   "source": []
  }
 ],
 "metadata": {
  "kernelspec": {
   "display_name": "Python 3 (ipykernel)",
   "language": "python",
   "name": "python3"
  },
  "language_info": {
   "codemirror_mode": {
    "name": "ipython",
    "version": 3
   },
   "file_extension": ".py",
   "mimetype": "text/x-python",
   "name": "python",
   "nbconvert_exporter": "python",
   "pygments_lexer": "ipython3",
   "version": "3.10.13"
  }
 },
 "nbformat": 4,
 "nbformat_minor": 5
}
